{
 "cells": [
  {
   "cell_type": "markdown",
   "metadata": {
    "run_control": {
     "frozen": false,
     "read_only": false
    }
   },
   "source": [
    "Our goal is to compare our explanation-based ranking with a personalized ranking produced by matrix factorization."
   ]
  },
  {
   "cell_type": "code",
   "execution_count": 24,
   "metadata": {
    "ExecuteTime": {
     "end_time": "2017-05-09T16:26:16.687709Z",
     "start_time": "2017-05-09T16:26:16.636335Z"
    },
    "run_control": {
     "frozen": false,
     "read_only": false
    }
   },
   "outputs": [
    {
     "name": "stdout",
     "output_type": "stream",
     "text": [
      "The autoreload extension is already loaded. To reload it, use:\n",
      "  %reload_ext autoreload\n"
     ]
    }
   ],
   "source": [
    "%load_ext autoreload\n",
    "%autoreload 2\n",
    "%matplotlib inline\n",
    "%config InlineBackend.figure_format='retina' \n",
    "\n",
    "from lightfm import LightFM\n",
    "import pandas as pd\n",
    "import numpy as np\n",
    "from IPython.display import display\n",
    "import scipy\n",
    "from itertools import cycle\n",
    "import matplotlib as mpl\n",
    "import matplotlib.pyplot as plt\n",
    "from glob import glob\n",
    "import os\n",
    "import sys\n",
    "\n",
    "home = os.environ['HOME']\n",
    "project_dir = '{}/projects/explanations/'.format(home)\n",
    "sys.path.append(project_dir)\n",
    "os.chdir(project_dir) \n",
    "\n",
    "from explanations.ndcg import ndcg_at_k\n",
    "\n",
    "mpl.rcParams['pdf.fonttype'] = 42\n",
    "mpl.rcParams['ps.fonttype'] = 42\n",
    "plt.rcParams['savefig.dpi'] = 300\n",
    "plt.rcParams['savefig.bbox'] = \"tight\"\n",
    "plt.rcParams[\"font.family\"] = 'Merriweather Sans'\n",
    "\n",
    "hdf5_dir = os.path.join(project_dir, 'hdf5')"
   ]
  },
  {
   "cell_type": "code",
   "execution_count": 25,
   "metadata": {
    "ExecuteTime": {
     "end_time": "2017-05-09T16:26:24.149986Z",
     "start_time": "2017-05-09T16:26:16.955492Z"
    },
    "run_control": {
     "frozen": false,
     "read_only": false
    }
   },
   "outputs": [
    {
     "name": "stdout",
     "output_type": "stream",
     "text": [
      "Loaded 405,051 explanations\n",
      "Found 356,799 user-item interactions\n"
     ]
    }
   ],
   "source": [
    "# Load explanations for the dataset\n",
    "path = os.path.join(hdf5_dir, 'ta-bw-nw-a00-sessions.h5')\n",
    "df_explanations = pd.read_hdf(path)\n",
    "print('Loaded {:,} explanations'.format(len(df_explanations)))\n",
    "\n",
    "# Extract columns needed to build interaction matrix.\n",
    "cols = ['target_item_average_rating', 'target_item_id', 'user_id']\n",
    "df_ratings = df_explanations[cols].drop_duplicates()\n",
    "df_ratings.rename(columns={'target_item_average_rating': 'rating', 'target_item_id': 'item_id'}, inplace=True)\n",
    "print('Found {:,} user-item interactions'.format(len(df_ratings)))"
   ]
  },
  {
   "cell_type": "code",
   "execution_count": 3,
   "metadata": {
    "ExecuteTime": {
     "end_time": "2017-05-09T16:11:10.111417Z",
     "start_time": "2017-05-09T16:09:17.629110Z"
    },
    "collapsed": true,
    "run_control": {
     "frozen": false,
     "read_only": false
    }
   },
   "outputs": [],
   "source": [
    "def build_interaction_matrix(df=None):\n",
    "    \"\"\"Create user-item interaction matrix.\n",
    "    \n",
    "    Args:\n",
    "        df: DataFrame with columns `user_id`, `item_id` and `rating`\n",
    "    \n",
    "    Returns:\n",
    "        Tuple of (user_ids, item_ids, matrix)\n",
    "    \"\"\"\n",
    "    expected_cols = ['user_id', 'item_id', 'rating']\n",
    "    common_cols = set(df.columns).intersection(expected_cols)\n",
    "    assert len(common_cols) == 3\n",
    "\n",
    "    def _build_interaction_matrix():\n",
    "        \"\"\"Build user-item matrix.\"\"\"\n",
    "        mat = scipy.sparse.lil_matrix((len(user_ids), len(item_ids)), dtype=np.int32)\n",
    "        for idx, row in df.iterrows():\n",
    "            user_idx = user_ids.index(row.user_id)\n",
    "            item_idx = item_ids.index(row.item_id)\n",
    "            mat[user_idx, item_idx] = 1.0 if row.rating >= 2.5 else -1.0\n",
    "        return mat.tocoo()\n",
    "\n",
    "    user_ids = df_ratings.user_id.unique().tolist()\n",
    "    item_ids = df_ratings.item_id.unique().tolist()\n",
    "    matrix = _build_interaction_matrix()\n",
    "    \n",
    "    return (user_ids, item_ids, matrix)\n",
    "\n",
    "user_ids, item_ids, matrix = build_interaction_matrix(df=df_ratings)"
   ]
  },
  {
   "cell_type": "code",
   "execution_count": 4,
   "metadata": {
    "ExecuteTime": {
     "end_time": "2017-05-09T16:11:19.713685Z",
     "start_time": "2017-05-09T16:11:10.113153Z"
    },
    "run_control": {
     "frozen": false,
     "read_only": false
    }
   },
   "outputs": [
    {
     "data": {
      "text/plain": [
       "<lightfm.lightfm.LightFM at 0x1054dfb38>"
      ]
     },
     "execution_count": 4,
     "metadata": {},
     "output_type": "execute_result"
    }
   ],
   "source": [
    "model = LightFM(loss='warp')\n",
    "model.fit(matrix, epochs=30, num_threads=4)"
   ]
  },
  {
   "cell_type": "code",
   "execution_count": 5,
   "metadata": {
    "ExecuteTime": {
     "end_time": "2017-05-09T16:15:21.413934Z",
     "start_time": "2017-05-09T16:11:19.715346Z"
    },
    "collapsed": true,
    "run_control": {
     "frozen": false,
     "read_only": false
    }
   },
   "outputs": [],
   "source": [
    "def get_scores():\n",
    "    def _get_scores():\n",
    "        for _, row in df_explanations.iterrows():\n",
    "            user_idx = user_ids.index(row.user_id)\n",
    "            item_idx = item_ids.index(row.target_item_id)\n",
    "            score = model.predict(user_idx, np.array([item_idx]))[0]\n",
    "            yield dict(user_id=row.user_id, item_id=row.target_item_id, score=score)\n",
    "        \n",
    "    return pd.DataFrame(_get_scores())\n",
    "\n",
    "# Extract scores from the model.\n",
    "df_scores = get_scores()"
   ]
  },
  {
   "cell_type": "code",
   "execution_count": 31,
   "metadata": {
    "ExecuteTime": {
     "end_time": "2017-05-09T16:27:21.697081Z",
     "start_time": "2017-05-09T16:27:21.388261Z"
    },
    "run_control": {
     "frozen": false,
     "read_only": false
    }
   },
   "outputs": [
    {
     "data": {
      "text/plain": [
       "(356799, 356799)"
      ]
     },
     "execution_count": 31,
     "metadata": {},
     "output_type": "execute_result"
    }
   ],
   "source": [
    "df_explanations.user_id_target_item_id.nunique(), df_scores.user_id_target_item_id.nunique()"
   ]
  },
  {
   "cell_type": "code",
   "execution_count": 27,
   "metadata": {
    "ExecuteTime": {
     "end_time": "2017-05-09T16:27:04.848113Z",
     "start_time": "2017-05-09T16:27:04.692605Z"
    },
    "collapsed": true,
    "run_control": {
     "frozen": false,
     "read_only": false
    }
   },
   "outputs": [],
   "source": [
    "# Merge scores to explanations.\n",
    "df_explanations['user_id_target_item_id'] = df_explanations.user_id + df_explanations.target_item_id\n",
    "df_scores['user_id_target_item_id'] = df_scores.user_id + df_scores.item_id"
   ]
  },
  {
   "cell_type": "code",
   "execution_count": 39,
   "metadata": {
    "ExecuteTime": {
     "end_time": "2017-05-09T16:29:02.072417Z",
     "start_time": "2017-05-09T16:29:01.816736Z"
    },
    "collapsed": true,
    "run_control": {
     "frozen": false,
     "read_only": false
    }
   },
   "outputs": [],
   "source": [
    "score_map = df_scores[['score','user_id_target_item_id']].set_index('user_id_target_item_id').score.to_dict()"
   ]
  },
  {
   "cell_type": "code",
   "execution_count": 40,
   "metadata": {
    "ExecuteTime": {
     "end_time": "2017-05-09T16:29:11.285930Z",
     "start_time": "2017-05-09T16:29:10.826093Z"
    },
    "collapsed": true,
    "run_control": {
     "frozen": false,
     "read_only": false
    }
   },
   "outputs": [],
   "source": [
    "df_explanations['score'] = df_explanations.user_id_target_item_id.map(score_map)\n",
    "del df_explanations['user_id_target_item_id']\n",
    "del df_scores['user_id_target_item_id']"
   ]
  },
  {
   "cell_type": "code",
   "execution_count": 41,
   "metadata": {
    "ExecuteTime": {
     "end_time": "2017-05-09T16:29:12.280951Z",
     "start_time": "2017-05-09T16:29:12.265574Z"
    },
    "run_control": {
     "frozen": false,
     "read_only": false
    }
   },
   "outputs": [
    {
     "name": "stdout",
     "output_type": "stream",
     "text": [
      "df_scores: 405,051\n",
      "df_explanations: 405,051\n"
     ]
    }
   ],
   "source": [
    "print('df_scores: {:,}'.format(len(df_scores)))\n",
    "print('df_explanations: {:,}'.format(len(df_explanations)))"
   ]
  },
  {
   "cell_type": "markdown",
   "metadata": {
    "run_control": {
     "frozen": false,
     "read_only": false
    }
   },
   "source": [
    "## Compute NDCGs"
   ]
  },
  {
   "cell_type": "code",
   "execution_count": 42,
   "metadata": {
    "ExecuteTime": {
     "end_time": "2017-05-09T16:29:18.917235Z",
     "start_time": "2017-05-09T16:29:18.647210Z"
    },
    "collapsed": true,
    "run_control": {
     "frozen": false,
     "read_only": false
    }
   },
   "outputs": [],
   "source": [
    "df_explanations.rename(columns={'score': 'rank_mf'}, inplace=True)"
   ]
  },
  {
   "cell_type": "code",
   "execution_count": 43,
   "metadata": {
    "ExecuteTime": {
     "end_time": "2017-05-09T16:29:19.651776Z",
     "start_time": "2017-05-09T16:29:19.617785Z"
    },
    "collapsed": true,
    "run_control": {
     "frozen": false,
     "read_only": false
    }
   },
   "outputs": [],
   "source": [
    "def compute_ndcgs(df_explanations, include_session_id=True):\n",
    "    \"\"\"Computes NDCG for sessions in a explanation DataFrame\n",
    "    \n",
    "    Args:\n",
    "        df_explanations (pd.DataFrame): Explanation DataFrame\n",
    "        include_session_id (bool): Whether or not to include session_ids in the output DataFrame\n",
    "        \n",
    "    Returns:\n",
    "    \n",
    "    \"\"\"\n",
    "    rank_cols = ['rank_related_items_sims_np', 'rank_mf', 'rank_strength', 'rank_target_item_average_rating']\n",
    "    \n",
    "    def _compute(df, method=2, session_id=None):\n",
    "        df_len = len(df)\n",
    "        for col in rank_cols:\n",
    "            df_sorted = df.sort_values(col)\n",
    "            average_ratings = df_sorted.target_item_average_rating.values\n",
    "            for idx in range(df_len):\n",
    "                k = idx + 1\n",
    "                yield dict(k=k, col=col, session_id=session_id, ndcg=ndcg_at_k(average_ratings, k=k, method=method))\n",
    "\n",
    "    # Columns used in computing NDCGs\n",
    "    ndcg_cols = rank_cols + ['session_id', 'target_item_average_rating']\n",
    "    def _run():\n",
    "        for idx, (session_id, df) in enumerate(df_explanations.groupby('session_id', sort=False)):\n",
    "            yield from _compute(df=df, session_id=session_id)\n",
    "    return pd.DataFrame.from_dict(_run())"
   ]
  },
  {
   "cell_type": "code",
   "execution_count": 44,
   "metadata": {
    "ExecuteTime": {
     "end_time": "2017-05-09T16:33:53.632626Z",
     "start_time": "2017-05-09T16:30:28.922341Z"
    },
    "collapsed": true,
    "run_control": {
     "frozen": false,
     "read_only": false
    }
   },
   "outputs": [],
   "source": [
    "df_ndcgs = compute_ndcgs(df_explanations, include_session_id=True)"
   ]
  },
  {
   "cell_type": "code",
   "execution_count": 45,
   "metadata": {
    "ExecuteTime": {
     "end_time": "2017-05-09T16:33:53.665923Z",
     "start_time": "2017-05-09T16:33:53.634305Z"
    },
    "run_control": {
     "frozen": false,
     "read_only": false
    }
   },
   "outputs": [
    {
     "data": {
      "text/plain": [
       "405051"
      ]
     },
     "execution_count": 45,
     "metadata": {},
     "output_type": "execute_result"
    }
   ],
   "source": [
    "len(df_explanations)"
   ]
  },
  {
   "cell_type": "code",
   "execution_count": 46,
   "metadata": {
    "ExecuteTime": {
     "end_time": "2017-05-09T16:33:53.940856Z",
     "start_time": "2017-05-09T16:33:53.667648Z"
    },
    "collapsed": true,
    "run_control": {
     "frozen": false,
     "read_only": false
    }
   },
   "outputs": [],
   "source": [
    "exclude_cols = ['rank_strength_comp', 'rank_target_item_average_rating']\n",
    "exclude_cols = ['rank_target_item_average_rating']\n",
    "df_ndcgs_summary = df_ndcgs.query('col != @exclude_cols').groupby(['col', 'k']).ndcg.mean()\n",
    "df_ndcgs_summary = df_ndcgs_summary.reset_index()"
   ]
  },
  {
   "cell_type": "code",
   "execution_count": 47,
   "metadata": {
    "ExecuteTime": {
     "end_time": "2017-05-09T16:33:53.958624Z",
     "start_time": "2017-05-09T16:33:53.942555Z"
    },
    "run_control": {
     "frozen": false,
     "read_only": false
    }
   },
   "outputs": [
    {
     "data": {
      "text/plain": [
       "array(['rank_mf', 'rank_related_items_sims_np', 'rank_strength'], dtype=object)"
      ]
     },
     "execution_count": 47,
     "metadata": {},
     "output_type": "execute_result"
    }
   ],
   "source": [
    "cols = df_ndcgs_summary.col.unique()\n",
    "cols"
   ]
  },
  {
   "cell_type": "code",
   "execution_count": 50,
   "metadata": {
    "ExecuteTime": {
     "end_time": "2017-05-09T19:36:06.111086Z",
     "start_time": "2017-05-09T19:36:05.352605Z"
    },
    "run_control": {
     "frozen": false,
     "read_only": false
    },
    "scrolled": false
   },
   "outputs": [
    {
     "data": {
      "image/png": "[encoded data removed]",
      "text/plain": [
       "<matplotlib.figure.Figure at 0x10e94a320>"
      ]
     },
     "metadata": {
      "image/png": {
       "height": 439,
       "width": 567
      }
     },
     "output_type": "display_data"
    }
   ],
   "source": [
    "def plot_ndcgs_new(dataset, markersize=12, figsize=(9, 7), title=None, exclude_alphas=None, ylim=None, ylabel=None,\n",
    "                   exclude_weights=None, ax=None, title_fontsize='small'):\n",
    "    markers = cycle(['s', 'v', '^', 'o', 'D', '<', '>', 'p', '*', '+', 'd', '1', \n",
    "                 '2', '3', '4', '8'])\n",
    "    colors = cycle(['r', 'b', 'g', 'y', 'c', 'm', 'k'])\n",
    "    if not ax:\n",
    "        fig, ax = plt.subplots(figsize=figsize)\n",
    "    rank_related_items_sims_np = False\n",
    "\n",
    "    for col in cols:\n",
    "        df = df_ndcgs_summary\n",
    "        label = col\n",
    "        c = next(colors)\n",
    "\n",
    "        df.query('col == @col').set_index('k').rename(columns={'ndcg': label}).plot(\n",
    "            kind='line', \n",
    "            ax=ax, \n",
    "            marker=next(markers), \n",
    "            markersize=markersize, \n",
    "            linewidth=1, \n",
    "            alpha=0.9, \n",
    "            label=label, \n",
    "            color=c, \n",
    "            linestyle='-', \n",
    "            markerfacecolor='w', \n",
    "            markeredgewidth=0.9,\n",
    "            legend=False\n",
    "        )\n",
    "        \n",
    "\n",
    "    ax.legend(scatterpoints=2, ncol=2, loc='best')\n",
    "    ax.set_title(title, fontsize=title_fontsize)\n",
    "    if ylabel:\n",
    "        ax.set_ylabel(ylabel)\n",
    "    if ylim:\n",
    "        ax.set_ylim(ylim)\n",
    "        \n",
    "    filename = title.lower().replace(' ', '-')\n",
    "        \n",
    "\n",
    "plot_ndcgs_new(dataset='ta', title='NDCGs of TripAdvisor Rankings', ylabel='NDCG@K')"
   ]
  },
  {
   "cell_type": "code",
   "execution_count": null,
   "metadata": {
    "ExecuteTime": {
     "end_time": "2017-05-09T16:15:21.552265Z",
     "start_time": "2017-05-09T16:09:09.927Z"
    },
    "collapsed": true,
    "run_control": {
     "frozen": false,
     "read_only": false
    }
   },
   "outputs": [],
   "source": [
    "# sns.set_context('poster')\n",
    "# sns.set_style('white')\n",
    "\n",
    "\n",
    "plot_ndcgs_new(dataset='ta', title='NDCGs of TripAdvisor Rankings', ylabel='NDCG@K')"
   ]
  },
  {
   "cell_type": "code",
   "execution_count": null,
   "metadata": {
    "collapsed": true,
    "run_control": {
     "frozen": false,
     "read_only": false
    }
   },
   "outputs": [],
   "source": []
  }
 ],
 "metadata": {
  "kernelspec": {
   "display_name": "Python 3",
   "language": "python",
   "name": "python3"
  },
  "language_info": {
   "codemirror_mode": {
    "name": "ipython",
    "version": 3
   },
   "file_extension": ".py",
   "mimetype": "text/x-python",
   "name": "python",
   "nbconvert_exporter": "python",
   "pygments_lexer": "ipython3",
   "version": "3.6.1"
  }
 },
 "nbformat": 4,
 "nbformat_minor": 2
}
