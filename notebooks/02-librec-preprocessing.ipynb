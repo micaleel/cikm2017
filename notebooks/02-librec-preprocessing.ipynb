{
 "cells": [
  {
   "cell_type": "markdown",
   "metadata": {
    "ExecuteTime": {
     "end_time": "2017-05-12T11:23:52.918876Z",
     "start_time": "2017-05-12T11:23:52.761538Z"
    },
    "run_control": {
     "frozen": false,
     "read_only": false
    }
   },
   "source": [
    "# LibRec"
   ]
  },
  {
   "cell_type": "code",
   "execution_count": 1,
   "metadata": {
    "ExecuteTime": {
     "end_time": "2017-05-15T13:50:35.474540Z",
     "start_time": "2017-05-15T13:50:34.851345Z"
    },
    "run_control": {
     "frozen": false,
     "read_only": false
    }
   },
   "outputs": [
    {
     "name": "stderr",
     "output_type": "stream",
     "text": [
      "/Users/khalil/anaconda2/envs/cikm2017/lib/python3.6/site-packages/lightfm/_lightfm_fast.py:9: UserWarning: LightFM was compiled without OpenMP support. Only a single thread will be used.\n",
      "  warnings.warn('LightFM was compiled without OpenMP support. '\n"
     ]
    }
   ],
   "source": [
    "import os\n",
    "import sys\n",
    "import numpy as np\n",
    "from IPython.display import display\n",
    "import pandas as pd\n",
    "import numpy as np\n",
    "import logging\n",
    "\n",
    "logging.basicConfig(format='%(levelname)s:%(message)s', level=logging.DEBUG)\n",
    "logger = logging.getLogger(__name__)\n",
    "\n",
    "HOME = os.environ['HOME']\n",
    "PROJECT_DIR = '{}/projects/cikm2017/'.format(HOME)\n",
    "CIKM_HDF5_DIR = os.path.join(PROJECT_DIR, 'data/hdf5/')\n",
    "\n",
    "sys.path.append(PROJECT_DIR)\n",
    "os.chdir(PROJECT_DIR)\n",
    "\n",
    "from cikm import create_train_and_test_data, get_rating_density\n",
    "\n",
    "# Paths to extraction files.\n",
    "EXTRACTION_FILES = {'ta': os.path.join(HOME, 'data/tripadvisor/extractions-ta.csv'),\n",
    "                    'ba': os.path.join(HOME, 'data/beeradvocate/extractions.csv'),\n",
    "                    'yp': os.path.join(HOME, 'data/yelp/extractions.csv')}\n",
    "\n",
    "# Paths to input explanation files.\n",
    "EXPLANATION_H5_FMT = os.path.join(HOME, 'projects/explanations/hdf5', '{}-bw-nw-a00-sessions.h5')\n",
    "EXPLANATION_PATHS = {'ta': EXPLANATION_H5_FMT.format('ta'),\n",
    "                     'ba': EXPLANATION_H5_FMT.format('ba'),\n",
    "                     'yp': EXPLANATION_H5_FMT.format('yp')}\n",
    "\n",
    "# Valiidate all explanation and extractions paths.\n",
    "for path in set(EXPLANATION_PATHS.values()).union(EXTRACTION_FILES.values()):\n",
    "    assert os.path.isfile(path), 'Invalid file: {}'.format(path)"
   ]
  },
  {
   "cell_type": "markdown",
   "metadata": {},
   "source": [
    "## Rating Densities"
   ]
  },
  {
   "cell_type": "code",
   "execution_count": 2,
   "metadata": {
    "ExecuteTime": {
     "end_time": "2017-05-15T13:51:01.799679Z",
     "start_time": "2017-05-15T13:50:35.476133Z"
    }
   },
   "outputs": [
    {
     "name": "stdout",
     "output_type": "stream",
     "text": [
      "Rating density of ta: 0.0007\n",
      "Rating density of yp: 0.0007\n",
      "Rating density of ba: 0.0007\n"
     ]
    }
   ],
   "source": [
    "for d in ('ta', 'yp', 'ba'):\n",
    "    print('Rating density of {}: {:.4f}'.format(d, get_rating_density(EXTRACTION_FILES['ta'])))"
   ]
  },
  {
   "cell_type": "code",
   "execution_count": 3,
   "metadata": {
    "ExecuteTime": {
     "end_time": "2017-05-15T13:52:50.134844Z",
     "start_time": "2017-05-15T13:51:01.801342Z"
    },
    "run_control": {
     "frozen": false,
     "read_only": false
    },
    "scrolled": false
   },
   "outputs": [
    {
     "name": "stderr",
     "output_type": "stream",
     "text": [
      "INFO:Loading extractions from /Users/khalil/data/tripadvisor/extractions-ta.csv\n"
     ]
    },
    {
     "name": "stdout",
     "output_type": "stream",
     "text": [
      "Processing ta\n"
     ]
    },
    {
     "name": "stderr",
     "output_type": "stream",
     "text": [
      "INFO:Saving ratings, user and item ID maps to /Users/khalil/data/tripadvisor/librec-data\n",
      "INFO:Loading extractions from /Users/khalil/data/beeradvocate/extractions.csv\n"
     ]
    },
    {
     "name": "stdout",
     "output_type": "stream",
     "text": [
      "Processing ba\n"
     ]
    },
    {
     "name": "stderr",
     "output_type": "stream",
     "text": [
      "INFO:Saving ratings, user and item ID maps to /Users/khalil/data/beeradvocate/librec-data\n",
      "INFO:Loading extractions from /Users/khalil/data/yelp/extractions.csv\n"
     ]
    },
    {
     "name": "stdout",
     "output_type": "stream",
     "text": [
      "Processing yp\n"
     ]
    },
    {
     "name": "stderr",
     "output_type": "stream",
     "text": [
      "INFO:Saving ratings, user and item ID maps to /Users/khalil/data/yelp/librec-data\n"
     ]
    }
   ],
   "source": [
    "for dataset in ('ta', 'ba', 'yp'):\n",
    "    print('Processing ' + dataset)\n",
    "    _ = create_train_and_test_data(ext_path=EXTRACTION_FILES[dataset], \n",
    "                                   exp_path=EXPLANATION_PATHS[dataset])"
   ]
  },
  {
   "cell_type": "code",
   "execution_count": 4,
   "metadata": {
    "ExecuteTime": {
     "end_time": "2017-05-15T13:52:50.260883Z",
     "start_time": "2017-05-15T13:52:50.137164Z"
    }
   },
   "outputs": [
    {
     "ename": "AssertionError",
     "evalue": "",
     "output_type": "error",
     "traceback": [
      "\u001b[0;31m---------------------------------------------------------------------------\u001b[0m",
      "\u001b[0;31mAssertionError\u001b[0m                            Traceback (most recent call last)",
      "\u001b[0;32m<ipython-input-4-a810b3a4aded>\u001b[0m in \u001b[0;36m<module>\u001b[0;34m()\u001b[0m\n\u001b[0;32m----> 1\u001b[0;31m \u001b[0;32massert\u001b[0m \u001b[0;36m1\u001b[0m \u001b[0;34m==\u001b[0m \u001b[0;36m2\u001b[0m\u001b[0;34m\u001b[0m\u001b[0m\n\u001b[0m",
      "\u001b[0;31mAssertionError\u001b[0m: "
     ]
    }
   ],
   "source": [
    "assert 1 == 2"
   ]
  },
  {
   "cell_type": "code",
   "execution_count": 6,
   "metadata": {
    "ExecuteTime": {
     "end_time": "2017-05-15T13:59:26.727427Z",
     "start_time": "2017-05-15T13:59:26.658016Z"
    },
    "run_control": {
     "frozen": false,
     "read_only": false
    }
   },
   "outputs": [
    {
     "name": "stdout",
     "output_type": "stream",
     "text": [
      "/Users/khalil/projects/librec/data/tripadvisor/rating/\n",
      "/Users/khalil/projects/librec/data/beeradvocate/rating/\n",
      "/Users/khalil/projects/librec/data/yelp/rating/\n"
     ]
    }
   ],
   "source": [
    "LIBREC_DIR = '/Users/khalil/projects/librec/'\n",
    "\n",
    "# Copy over files to LibRec directory.\n",
    "from shutil import copyfile\n",
    "\n",
    "for dataset in ('tripadvisor', 'beeradvocate', 'yelp'):\n",
    "    ratings_csv_path = '/Users/khalil/data/{}/librec-data/ratings.csv'.format(dataset)\n",
    "    test_csv_path = '/Users/khalil/data/{}/librec-data/test.csv'.format(dataset)\n",
    "    dest_dir = os.path.join(LIBREC_DIR, 'data/{}/rating/'.format(dataset))\n",
    "    os.makedirs(dest_dir, exist_ok=True)\n",
    "    print(dest_dir)\n",
    "    copyfile(ratings_csv_path, os.path.join(dest_dir, 'ratings.txt'))\n",
    "    copyfile(test_csv_path, os.path.join(dest_dir, 'test.txt'))"
   ]
  },
  {
   "cell_type": "markdown",
   "metadata": {
    "ExecuteTime": {
     "end_time": "2017-05-12T18:47:57.118942Z",
     "start_time": "2017-05-12T18:47:56.810893Z"
    },
    "run_control": {
     "frozen": false,
     "read_only": false
    }
   },
   "source": [
    "`./bin/librec_dev rec -exec -D dfs.data.dir=./data -D dfs.result.dir=./result -D rec.recommender.class=biasedmf -D data.input.path=yelp/rating/ratings.txt -D data.testset.path=yelp/rating/test.txt -conf conf/librec.properties`"
   ]
  },
  {
   "cell_type": "markdown",
   "metadata": {},
   "source": [
    "## Run LibRec"
   ]
  },
  {
   "cell_type": "code",
   "execution_count": 7,
   "metadata": {
    "ExecuteTime": {
     "end_time": "2017-05-15T14:10:28.159126Z",
     "start_time": "2017-05-15T14:00:32.242680Z"
    }
   },
   "outputs": [
    {
     "name": "stdout",
     "output_type": "stream",
     "text": [
      "/Users/khalil/projects/librec\n",
      "Exists:  True\n",
      "Dataset: tripadvisor, Algorithm: svdpp\n",
      "./bin/librec_dev rec -exec -D dfs.data.dir=./data -D dfs.result.dir=./result -D rec.recommender.class=svdpp -D data.input.path=tripadvisor/rating/ratings.txt -D data.testset.path=tripadvisor/rating/test.txt -conf conf/librec.properties\n",
      "Dataset: yelp, Algorithm: svdpp\n",
      "./bin/librec_dev rec -exec -D dfs.data.dir=./data -D dfs.result.dir=./result -D rec.recommender.class=svdpp -D data.input.path=yelp/rating/ratings.txt -D data.testset.path=yelp/rating/test.txt -conf conf/librec.properties\n",
      "Dataset: beeradvocate, Algorithm: svdpp\n",
      "./bin/librec_dev rec -exec -D dfs.data.dir=./data -D dfs.result.dir=./result -D rec.recommender.class=svdpp -D data.input.path=beeradvocate/rating/ratings.txt -D data.testset.path=beeradvocate/rating/test.txt -conf conf/librec.properties\n",
      "Dataset: tripadvisor, Algorithm: biasedmf\n",
      "./bin/librec_dev rec -exec -D dfs.data.dir=./data -D dfs.result.dir=./result -D rec.recommender.class=biasedmf -D data.input.path=tripadvisor/rating/ratings.txt -D data.testset.path=tripadvisor/rating/test.txt -conf conf/librec.properties\n",
      "Dataset: yelp, Algorithm: biasedmf\n",
      "./bin/librec_dev rec -exec -D dfs.data.dir=./data -D dfs.result.dir=./result -D rec.recommender.class=biasedmf -D data.input.path=yelp/rating/ratings.txt -D data.testset.path=yelp/rating/test.txt -conf conf/librec.properties\n",
      "Dataset: beeradvocate, Algorithm: biasedmf\n",
      "./bin/librec_dev rec -exec -D dfs.data.dir=./data -D dfs.result.dir=./result -D rec.recommender.class=biasedmf -D data.input.path=beeradvocate/rating/ratings.txt -D data.testset.path=beeradvocate/rating/test.txt -conf conf/librec.properties\n"
     ]
    }
   ],
   "source": [
    "import subprocess\n",
    "\n",
    "LIBREC_PROJET_DIR = '/Users/khalil/projects/librec/'\n",
    "os.chdir(LIBREC_PROJET_DIR)\n",
    "\n",
    "!pwd\n",
    "\n",
    "algorithm = 'biasedmf'\n",
    "dataset = 'beeradvocate'\n",
    "print('Exists: ', os.path.exists(os.path.join(LIBREC_PROJET_DIR, 'bin/librec_dev')))\n",
    "\n",
    "# Create command.\n",
    "# cmd = \"./bin/librec_dev rec -exec -D dfs.data.dir=./data -D dfs.result.dir=./result \"\n",
    "# cmd += \"-D rec.recommender.class=biasedmf -D data.input.path=beeradvocate/rating/ratings.txt -D \"  \n",
    "# cmd += \"data.testset.path=beeradvocate/rating/test.txt -conf conf/librec.properties\"\n",
    "\n",
    "for algorithm in ('svdpp', 'biasedmf'):\n",
    "# for algorithm in ('biasedmf'):\n",
    "    for dataset in ('tripadvisor', 'yelp', 'beeradvocate'):\n",
    "        print('Dataset: {dataset}, Algorithm: {algorithm}'.format(algorithm=algorithm, dataset=dataset))\n",
    "        cmd = \"./bin/librec_dev rec -exec -D dfs.data.dir=./data -D dfs.result.dir=./result \"\n",
    "        cmd += \"-D rec.recommender.class={algorithm} -D data.input.path={dataset}/rating/ratings.txt -D \"  \n",
    "        cmd += \"data.testset.path={dataset}/rating/test.txt -conf conf/librec.properties\"\n",
    "        cmd = cmd.format(algorithm=algorithm, dataset=dataset)\n",
    "\n",
    "        print(cmd)\n",
    "    #     subprocess.check_call(cmd, shell=True)\n",
    "        os.system(cmd)"
   ]
  },
  {
   "cell_type": "code",
   "execution_count": 8,
   "metadata": {
    "ExecuteTime": {
     "end_time": "2017-05-15T14:10:28.174588Z",
     "start_time": "2017-05-15T14:10:28.161294Z"
    },
    "run_control": {
     "frozen": false,
     "read_only": false
    }
   },
   "outputs": [
    {
     "ename": "AssertionError",
     "evalue": "",
     "output_type": "error",
     "traceback": [
      "\u001b[0;31m---------------------------------------------------------------------------\u001b[0m",
      "\u001b[0;31mAssertionError\u001b[0m                            Traceback (most recent call last)",
      "\u001b[0;32m<ipython-input-8-a810b3a4aded>\u001b[0m in \u001b[0;36m<module>\u001b[0;34m()\u001b[0m\n\u001b[0;32m----> 1\u001b[0;31m \u001b[0;32massert\u001b[0m \u001b[0;36m1\u001b[0m \u001b[0;34m==\u001b[0m \u001b[0;36m2\u001b[0m\u001b[0;34m\u001b[0m\u001b[0m\n\u001b[0m",
      "\u001b[0;31mAssertionError\u001b[0m: "
     ]
    }
   ],
   "source": [
    "assert 1 == 2"
   ]
  },
  {
   "cell_type": "markdown",
   "metadata": {
    "run_control": {
     "frozen": false,
     "read_only": false
    }
   },
   "source": [
    "**Note:** In `df_explanations`, the explanations that have `is_seed` as `True` are those that the user has rated or reviewed. If a user has rated/reviewed and item more than once, we will only consider it as a seed hotel once.\n",
    "\n",
    "##### The training data\n",
    "These are tuples (`user_id`, `item_id`, and `rating`) that the corresponds to items users have actually rated. This can be obtained from the explanations DataFrame (i.e. `df_explanations`) by querying all seed items. However this won't be complete since .... Therefore it is best to take this information from the list of extractions (i.e. `df_extractions`).\n",
    "\n",
    "#### The test data\n",
    "These are tuples (`user_id`, `item_id`, and `rating`) that the user could have rated. This means we have generated recommendations for them but we don't know what ratings the user might have given to them. This can be obtained from `df_explanations` by querying all target items that are not seeds."
   ]
  }
 ],
 "metadata": {
  "kernelspec": {
   "display_name": "Python 3",
   "language": "python",
   "name": "python3"
  },
  "language_info": {
   "codemirror_mode": {
    "name": "ipython",
    "version": 3
   },
   "file_extension": ".py",
   "mimetype": "text/x-python",
   "name": "python",
   "nbconvert_exporter": "python",
   "pygments_lexer": "ipython3",
   "version": "3.6.1"
  }
 },
 "nbformat": 4,
 "nbformat_minor": 2
}
