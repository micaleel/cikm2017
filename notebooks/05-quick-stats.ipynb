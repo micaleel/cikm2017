{
 "cells": [
  {
   "cell_type": "code",
   "execution_count": 1,
   "metadata": {
    "ExecuteTime": {
     "end_time": "2017-05-19T11:47:43.152667Z",
     "start_time": "2017-05-19T11:47:42.857787Z"
    },
    "collapsed": true
   },
   "outputs": [],
   "source": [
    "import pandas as pd\n",
    "import numpy as np"
   ]
  },
  {
   "cell_type": "code",
   "execution_count": 2,
   "metadata": {
    "ExecuteTime": {
     "end_time": "2017-05-19T11:48:03.388160Z",
     "start_time": "2017-05-19T11:47:43.154515Z"
    },
    "collapsed": true,
    "run_control": {
     "frozen": false,
     "read_only": false
    }
   },
   "outputs": [],
   "source": [
    "# Define paths to extraction files.\n",
    "extraction_paths = {'ta': '/Users/khalil/data/tripadvisor/extractions.csv',\n",
    "                    'ba': '/Users/khalil/data/beeradvocate/extractions-clean.csv',\n",
    "                    'yp': '/Users/khalil/data/yelp/extractions-clean.csv'}\n",
    "\n",
    "\n",
    "\n",
    "df_extractions_ta = pd.read_csv(extraction_paths['ta']).rename(columns={'member_id': 'user_id', 'hotel_id': 'item_id'})\n",
    "df_extractions_ba = pd.read_csv(extraction_paths['ba'])\n",
    "df_extractions_yp = pd.read_csv(extraction_paths['yp'])\n",
    "\n",
    "datasets = {\n",
    "    'ta': df_extractions_ta, 'ba': df_extractions_ba, 'yp': df_extractions_yp\n",
    "}"
   ]
  },
  {
   "cell_type": "code",
   "execution_count": 3,
   "metadata": {
    "ExecuteTime": {
     "end_time": "2017-05-19T11:48:03.406580Z",
     "start_time": "2017-05-19T11:48:03.389752Z"
    }
   },
   "outputs": [
    {
     "data": {
      "text/html": [
       "<div>\n",
       "<style>\n",
       "    .dataframe thead tr:only-child th {\n",
       "        text-align: right;\n",
       "    }\n",
       "\n",
       "    .dataframe thead th {\n",
       "        text-align: left;\n",
       "    }\n",
       "\n",
       "    .dataframe tbody tr th {\n",
       "        vertical-align: top;\n",
       "    }\n",
       "</style>\n",
       "<table border=\"1\" class=\"dataframe\">\n",
       "  <thead>\n",
       "    <tr style=\"text-align: right;\">\n",
       "      <th></th>\n",
       "      <th>feature</th>\n",
       "      <th>review_id</th>\n",
       "      <th>user_id</th>\n",
       "      <th>item_id</th>\n",
       "      <th>city</th>\n",
       "      <th>sentiment</th>\n",
       "      <th>amenity</th>\n",
       "    </tr>\n",
       "  </thead>\n",
       "  <tbody>\n",
       "    <tr>\n",
       "      <th>0</th>\n",
       "      <td>breakfast</td>\n",
       "      <td>review_174376340</td>\n",
       "      <td>5B020C0FB46F812D76FA2EB9A4B4125F</td>\n",
       "      <td>Lynam_s_Hotel</td>\n",
       "      <td>Dublin</td>\n",
       "      <td>0.2</td>\n",
       "      <td>free breakfast</td>\n",
       "    </tr>\n",
       "    <tr>\n",
       "      <th>1</th>\n",
       "      <td>money</td>\n",
       "      <td>review_174376340</td>\n",
       "      <td>5B020C0FB46F812D76FA2EB9A4B4125F</td>\n",
       "      <td>Lynam_s_Hotel</td>\n",
       "      <td>Dublin</td>\n",
       "      <td>0.0</td>\n",
       "      <td>room service</td>\n",
       "    </tr>\n",
       "    <tr>\n",
       "      <th>2</th>\n",
       "      <td>jacket</td>\n",
       "      <td>review_174376340</td>\n",
       "      <td>5B020C0FB46F812D76FA2EB9A4B4125F</td>\n",
       "      <td>Lynam_s_Hotel</td>\n",
       "      <td>Dublin</td>\n",
       "      <td>0.0</td>\n",
       "      <td>room service</td>\n",
       "    </tr>\n",
       "    <tr>\n",
       "      <th>3</th>\n",
       "      <td>trip</td>\n",
       "      <td>review_174376340</td>\n",
       "      <td>5B020C0FB46F812D76FA2EB9A4B4125F</td>\n",
       "      <td>Lynam_s_Hotel</td>\n",
       "      <td>Dublin</td>\n",
       "      <td>0.4</td>\n",
       "      <td>business center</td>\n",
       "    </tr>\n",
       "    <tr>\n",
       "      <th>4</th>\n",
       "      <td>appeal</td>\n",
       "      <td>review_174282794</td>\n",
       "      <td>7E6A02ECD950A5D66EEDE5D0F9518CC8</td>\n",
       "      <td>Lynam_s_Hotel</td>\n",
       "      <td>Dublin</td>\n",
       "      <td>0.5</td>\n",
       "      <td>room service</td>\n",
       "    </tr>\n",
       "  </tbody>\n",
       "</table>\n",
       "</div>"
      ],
      "text/plain": [
       "     feature         review_id                           user_id  \\\n",
       "0  breakfast  review_174376340  5B020C0FB46F812D76FA2EB9A4B4125F   \n",
       "1      money  review_174376340  5B020C0FB46F812D76FA2EB9A4B4125F   \n",
       "2     jacket  review_174376340  5B020C0FB46F812D76FA2EB9A4B4125F   \n",
       "3       trip  review_174376340  5B020C0FB46F812D76FA2EB9A4B4125F   \n",
       "4     appeal  review_174282794  7E6A02ECD950A5D66EEDE5D0F9518CC8   \n",
       "\n",
       "         item_id    city  sentiment          amenity  \n",
       "0  Lynam_s_Hotel  Dublin        0.2   free breakfast  \n",
       "1  Lynam_s_Hotel  Dublin        0.0     room service  \n",
       "2  Lynam_s_Hotel  Dublin        0.0     room service  \n",
       "3  Lynam_s_Hotel  Dublin        0.4  business center  \n",
       "4  Lynam_s_Hotel  Dublin        0.5     room service  "
      ]
     },
     "execution_count": 3,
     "metadata": {},
     "output_type": "execute_result"
    }
   ],
   "source": [
    "df_extractions_ta.head()"
   ]
  },
  {
   "cell_type": "code",
   "execution_count": 4,
   "metadata": {
    "ExecuteTime": {
     "end_time": "2017-05-19T11:48:03.425810Z",
     "start_time": "2017-05-19T11:48:03.408422Z"
    }
   },
   "outputs": [
    {
     "data": {
      "text/html": [
       "<div>\n",
       "<style>\n",
       "    .dataframe thead tr:only-child th {\n",
       "        text-align: right;\n",
       "    }\n",
       "\n",
       "    .dataframe thead th {\n",
       "        text-align: left;\n",
       "    }\n",
       "\n",
       "    .dataframe tbody tr th {\n",
       "        vertical-align: top;\n",
       "    }\n",
       "</style>\n",
       "<table border=\"1\" class=\"dataframe\">\n",
       "  <thead>\n",
       "    <tr style=\"text-align: right;\">\n",
       "      <th></th>\n",
       "      <th>feature</th>\n",
       "      <th>feature_index</th>\n",
       "      <th>item_id</th>\n",
       "      <th>opinion</th>\n",
       "      <th>opinion_index</th>\n",
       "      <th>opinion_pattern</th>\n",
       "      <th>original_feature</th>\n",
       "      <th>rating</th>\n",
       "      <th>rating_date</th>\n",
       "      <th>review_id</th>\n",
       "      <th>sentence_idx</th>\n",
       "      <th>sentence_str</th>\n",
       "      <th>sentiment</th>\n",
       "      <th>user_id</th>\n",
       "      <th>amenity</th>\n",
       "    </tr>\n",
       "  </thead>\n",
       "  <tbody>\n",
       "    <tr>\n",
       "      <th>0</th>\n",
       "      <td>taste</td>\n",
       "      <td>1</td>\n",
       "      <td>773</td>\n",
       "      <td>beautiful</td>\n",
       "      <td>3.0</td>\n",
       "      <td>FEATURE_VBZ_JJ</td>\n",
       "      <td>taste</td>\n",
       "      <td>4.0</td>\n",
       "      <td>2004-01-23 22:13:24</td>\n",
       "      <td>r87066</td>\n",
       "      <td>7</td>\n",
       "      <td>The taste is beautiful, it is impressively lig...</td>\n",
       "      <td>0.850</td>\n",
       "      <td>bditty187</td>\n",
       "      <td>taste</td>\n",
       "    </tr>\n",
       "    <tr>\n",
       "      <th>1</th>\n",
       "      <td>flavor</td>\n",
       "      <td>19</td>\n",
       "      <td>773</td>\n",
       "      <td>other</td>\n",
       "      <td>23.0</td>\n",
       "      <td>FEATURE_VBZ_CC_DT_JJ</td>\n",
       "      <td>flavor</td>\n",
       "      <td>4.0</td>\n",
       "      <td>2004-01-23 22:13:24</td>\n",
       "      <td>r87066</td>\n",
       "      <td>7</td>\n",
       "      <td>The taste is beautiful, it is impressively lig...</td>\n",
       "      <td>-0.125</td>\n",
       "      <td>bditty187</td>\n",
       "      <td>taste</td>\n",
       "    </tr>\n",
       "    <tr>\n",
       "      <th>2</th>\n",
       "      <td>end</td>\n",
       "      <td>25</td>\n",
       "      <td>773</td>\n",
       "      <td>other</td>\n",
       "      <td>23.0</td>\n",
       "      <td>JJ_CD_FEATURE</td>\n",
       "      <td>ends</td>\n",
       "      <td>4.0</td>\n",
       "      <td>2004-01-23 22:13:24</td>\n",
       "      <td>r87066</td>\n",
       "      <td>7</td>\n",
       "      <td>The taste is beautiful, it is impressively lig...</td>\n",
       "      <td>-0.125</td>\n",
       "      <td>bditty187</td>\n",
       "      <td>taste</td>\n",
       "    </tr>\n",
       "    <tr>\n",
       "      <th>3</th>\n",
       "      <td>body</td>\n",
       "      <td>1</td>\n",
       "      <td>773</td>\n",
       "      <td>thin</td>\n",
       "      <td>3.0</td>\n",
       "      <td>FEATURE_VBZ_JJ</td>\n",
       "      <td>body</td>\n",
       "      <td>4.0</td>\n",
       "      <td>2004-01-23 22:13:24</td>\n",
       "      <td>r87066</td>\n",
       "      <td>8</td>\n",
       "      <td>The body is thin, medium-light; the sensation ...</td>\n",
       "      <td>-0.400</td>\n",
       "      <td>bditty187</td>\n",
       "      <td>palate</td>\n",
       "    </tr>\n",
       "    <tr>\n",
       "      <th>4</th>\n",
       "      <td>sensation</td>\n",
       "      <td>6</td>\n",
       "      <td>773</td>\n",
       "      <td>thin</td>\n",
       "      <td>3.0</td>\n",
       "      <td>JJ_JJ_DT_FEATURE</td>\n",
       "      <td>sensation</td>\n",
       "      <td>4.0</td>\n",
       "      <td>2004-01-23 22:13:24</td>\n",
       "      <td>r87066</td>\n",
       "      <td>8</td>\n",
       "      <td>The body is thin, medium-light; the sensation ...</td>\n",
       "      <td>-0.400</td>\n",
       "      <td>bditty187</td>\n",
       "      <td>palate</td>\n",
       "    </tr>\n",
       "  </tbody>\n",
       "</table>\n",
       "</div>"
      ],
      "text/plain": [
       "     feature  feature_index  item_id    opinion  opinion_index  \\\n",
       "0      taste              1      773  beautiful            3.0   \n",
       "1     flavor             19      773      other           23.0   \n",
       "2        end             25      773      other           23.0   \n",
       "3       body              1      773       thin            3.0   \n",
       "4  sensation              6      773       thin            3.0   \n",
       "\n",
       "        opinion_pattern original_feature  rating          rating_date  \\\n",
       "0        FEATURE_VBZ_JJ            taste     4.0  2004-01-23 22:13:24   \n",
       "1  FEATURE_VBZ_CC_DT_JJ           flavor     4.0  2004-01-23 22:13:24   \n",
       "2         JJ_CD_FEATURE             ends     4.0  2004-01-23 22:13:24   \n",
       "3        FEATURE_VBZ_JJ             body     4.0  2004-01-23 22:13:24   \n",
       "4      JJ_JJ_DT_FEATURE        sensation     4.0  2004-01-23 22:13:24   \n",
       "\n",
       "  review_id  sentence_idx                                       sentence_str  \\\n",
       "0    r87066             7  The taste is beautiful, it is impressively lig...   \n",
       "1    r87066             7  The taste is beautiful, it is impressively lig...   \n",
       "2    r87066             7  The taste is beautiful, it is impressively lig...   \n",
       "3    r87066             8  The body is thin, medium-light; the sensation ...   \n",
       "4    r87066             8  The body is thin, medium-light; the sensation ...   \n",
       "\n",
       "   sentiment    user_id amenity  \n",
       "0      0.850  bditty187   taste  \n",
       "1     -0.125  bditty187   taste  \n",
       "2     -0.125  bditty187   taste  \n",
       "3     -0.400  bditty187  palate  \n",
       "4     -0.400  bditty187  palate  "
      ]
     },
     "execution_count": 4,
     "metadata": {},
     "output_type": "execute_result"
    }
   ],
   "source": [
    "df_extractions_ba.head()"
   ]
  },
  {
   "cell_type": "code",
   "execution_count": 5,
   "metadata": {
    "ExecuteTime": {
     "end_time": "2017-05-19T11:48:03.446949Z",
     "start_time": "2017-05-19T11:48:03.427401Z"
    }
   },
   "outputs": [
    {
     "data": {
      "text/html": [
       "<div>\n",
       "<style>\n",
       "    .dataframe thead tr:only-child th {\n",
       "        text-align: right;\n",
       "    }\n",
       "\n",
       "    .dataframe thead th {\n",
       "        text-align: left;\n",
       "    }\n",
       "\n",
       "    .dataframe tbody tr th {\n",
       "        vertical-align: top;\n",
       "    }\n",
       "</style>\n",
       "<table border=\"1\" class=\"dataframe\">\n",
       "  <thead>\n",
       "    <tr style=\"text-align: right;\">\n",
       "      <th></th>\n",
       "      <th>feature</th>\n",
       "      <th>feature_index</th>\n",
       "      <th>item_id</th>\n",
       "      <th>opinion</th>\n",
       "      <th>opinion_index</th>\n",
       "      <th>opinion_pattern</th>\n",
       "      <th>original_feature</th>\n",
       "      <th>rating</th>\n",
       "      <th>rating_date</th>\n",
       "      <th>review_id</th>\n",
       "      <th>sentence_idx</th>\n",
       "      <th>sentence_str</th>\n",
       "      <th>sentiment</th>\n",
       "      <th>user_id</th>\n",
       "      <th>amenity</th>\n",
       "    </tr>\n",
       "  </thead>\n",
       "  <tbody>\n",
       "    <tr>\n",
       "      <th>0</th>\n",
       "      <td>food</td>\n",
       "      <td>1.0</td>\n",
       "      <td>5UmKMjUEUNdYWqANhGckJw</td>\n",
       "      <td>excellent</td>\n",
       "      <td>0.0</td>\n",
       "      <td>JJ_FEATURE</td>\n",
       "      <td>food</td>\n",
       "      <td>5.0</td>\n",
       "      <td>2014-02-13</td>\n",
       "      <td>KPvLNJ21_4wbYNctrOwWdQ</td>\n",
       "      <td>0.0</td>\n",
       "      <td>Excellent food.</td>\n",
       "      <td>1.000000</td>\n",
       "      <td>Iu6AxdBYGR4A0wspR9BYHA</td>\n",
       "      <td>service</td>\n",
       "    </tr>\n",
       "    <tr>\n",
       "      <th>1</th>\n",
       "      <td>food</td>\n",
       "      <td>3.0</td>\n",
       "      <td>PdWe3jF9YEu5fWBiQXZIgg</td>\n",
       "      <td>boring</td>\n",
       "      <td>2.0</td>\n",
       "      <td>JJ_FEATURE</td>\n",
       "      <td>food</td>\n",
       "      <td>1.0</td>\n",
       "      <td>2014-11-27</td>\n",
       "      <td>RITnsXg_bhrtbvSj9XQ4fg</td>\n",
       "      <td>0.0</td>\n",
       "      <td>Over priced boring food.</td>\n",
       "      <td>-1.000000</td>\n",
       "      <td>0Hmez6GVD2c_mGkhCgP9PQ</td>\n",
       "      <td>service</td>\n",
       "    </tr>\n",
       "    <tr>\n",
       "      <th>2</th>\n",
       "      <td>customer service</td>\n",
       "      <td>1.0</td>\n",
       "      <td>5UmKMjUEUNdYWqANhGckJw</td>\n",
       "      <td>superb</td>\n",
       "      <td>0.0</td>\n",
       "      <td>JJ_FEATURE_NN</td>\n",
       "      <td>customer</td>\n",
       "      <td>5.0</td>\n",
       "      <td>2014-02-13</td>\n",
       "      <td>KPvLNJ21_4wbYNctrOwWdQ</td>\n",
       "      <td>1.0</td>\n",
       "      <td>Superb customer service.</td>\n",
       "      <td>1.000000</td>\n",
       "      <td>Iu6AxdBYGR4A0wspR9BYHA</td>\n",
       "      <td>service</td>\n",
       "    </tr>\n",
       "    <tr>\n",
       "      <th>3</th>\n",
       "      <td>burrito</td>\n",
       "      <td>3.0</td>\n",
       "      <td>VwCYKGji0en-y4ebOXNsnA</td>\n",
       "      <td>super</td>\n",
       "      <td>2.0</td>\n",
       "      <td>JJ_FEATURE</td>\n",
       "      <td>burrito</td>\n",
       "      <td>5.0</td>\n",
       "      <td>2014-02-15</td>\n",
       "      <td>TufeAX-p-b-dDQQPVCnpSw</td>\n",
       "      <td>2.0</td>\n",
       "      <td>The carnitas super burrito is amazing</td>\n",
       "      <td>0.333333</td>\n",
       "      <td>fhWhD-DmDBTmrBP0icp0_Q</td>\n",
       "      <td>food</td>\n",
       "    </tr>\n",
       "    <tr>\n",
       "      <th>4</th>\n",
       "      <td>rcvd</td>\n",
       "      <td>2.0</td>\n",
       "      <td>PdWe3jF9YEu5fWBiQXZIgg</td>\n",
       "      <td>little</td>\n",
       "      <td>4.0</td>\n",
       "      <td>FEATURE_IN_JJ</td>\n",
       "      <td>rcvd</td>\n",
       "      <td>1.0</td>\n",
       "      <td>2014-11-27</td>\n",
       "      <td>RITnsXg_bhrtbvSj9XQ4fg</td>\n",
       "      <td>2.0</td>\n",
       "      <td>Where we rcvd 4 little sliders &amp; 4wings.</td>\n",
       "      <td>-0.187500</td>\n",
       "      <td>0Hmez6GVD2c_mGkhCgP9PQ</td>\n",
       "      <td>food</td>\n",
       "    </tr>\n",
       "  </tbody>\n",
       "</table>\n",
       "</div>"
      ],
      "text/plain": [
       "            feature  feature_index                 item_id    opinion  \\\n",
       "0              food            1.0  5UmKMjUEUNdYWqANhGckJw  excellent   \n",
       "1              food            3.0  PdWe3jF9YEu5fWBiQXZIgg     boring   \n",
       "2  customer service            1.0  5UmKMjUEUNdYWqANhGckJw     superb   \n",
       "3           burrito            3.0  VwCYKGji0en-y4ebOXNsnA      super   \n",
       "4              rcvd            2.0  PdWe3jF9YEu5fWBiQXZIgg     little   \n",
       "\n",
       "   opinion_index opinion_pattern original_feature  rating rating_date  \\\n",
       "0            0.0      JJ_FEATURE             food     5.0  2014-02-13   \n",
       "1            2.0      JJ_FEATURE             food     1.0  2014-11-27   \n",
       "2            0.0   JJ_FEATURE_NN         customer     5.0  2014-02-13   \n",
       "3            2.0      JJ_FEATURE          burrito     5.0  2014-02-15   \n",
       "4            4.0   FEATURE_IN_JJ             rcvd     1.0  2014-11-27   \n",
       "\n",
       "                review_id  sentence_idx  \\\n",
       "0  KPvLNJ21_4wbYNctrOwWdQ           0.0   \n",
       "1  RITnsXg_bhrtbvSj9XQ4fg           0.0   \n",
       "2  KPvLNJ21_4wbYNctrOwWdQ           1.0   \n",
       "3  TufeAX-p-b-dDQQPVCnpSw           2.0   \n",
       "4  RITnsXg_bhrtbvSj9XQ4fg           2.0   \n",
       "\n",
       "                               sentence_str  sentiment  \\\n",
       "0                           Excellent food.   1.000000   \n",
       "1                  Over priced boring food.  -1.000000   \n",
       "2                  Superb customer service.   1.000000   \n",
       "3     The carnitas super burrito is amazing   0.333333   \n",
       "4  Where we rcvd 4 little sliders & 4wings.  -0.187500   \n",
       "\n",
       "                  user_id  amenity  \n",
       "0  Iu6AxdBYGR4A0wspR9BYHA  service  \n",
       "1  0Hmez6GVD2c_mGkhCgP9PQ  service  \n",
       "2  Iu6AxdBYGR4A0wspR9BYHA  service  \n",
       "3  fhWhD-DmDBTmrBP0icp0_Q     food  \n",
       "4  0Hmez6GVD2c_mGkhCgP9PQ     food  "
      ]
     },
     "execution_count": 5,
     "metadata": {},
     "output_type": "execute_result"
    }
   ],
   "source": [
    "df_extractions_yp.head()"
   ]
  },
  {
   "cell_type": "markdown",
   "metadata": {},
   "source": [
    "## Average features per review"
   ]
  },
  {
   "cell_type": "code",
   "execution_count": 17,
   "metadata": {
    "ExecuteTime": {
     "end_time": "2017-05-19T11:52:39.826265Z",
     "start_time": "2017-05-19T11:52:21.737283Z"
    }
   },
   "outputs": [
    {
     "name": "stdout",
     "output_type": "stream",
     "text": [
      "Average features per review:\n",
      "- TA: μ=2.5 ± 1.3\n",
      "- BA: μ=3.8 ± 1.1\n",
      "- YP: μ=3.2 ± 1.2\n"
     ]
    }
   ],
   "source": [
    "print('Average features per review:')\n",
    "from IPython.display import display\n",
    "for dataset, df in datasets.items():\n",
    "    df_g = df.groupby('review_id', as_index=False).agg({'amenity': lambda x: len(np.unique(x))})\n",
    "    df_g.rename(columns={'amenity': 'n_features'}, inplace=True)\n",
    "    df_g.to_csv('../data/num-features-per-review-{}.csv'.format(dataset), index=False)\n",
    "    print('- {dataset}: μ={mean:.1f} ± {stddev:.1f}'.format(dataset=dataset.upper(), \n",
    "                                                          mean=df_g.n_features.mean(), \n",
    "                                                          stddev=df_g.n_features.std()))"
   ]
  },
  {
   "cell_type": "markdown",
   "metadata": {},
   "source": [
    "## Average number of features per item\n"
   ]
  },
  {
   "cell_type": "code",
   "execution_count": 18,
   "metadata": {
    "ExecuteTime": {
     "end_time": "2017-05-19T14:24:55.367690Z",
     "start_time": "2017-05-19T14:24:51.464745Z"
    }
   },
   "outputs": [
    {
     "name": "stdout",
     "output_type": "stream",
     "text": [
      "Average features per item:\n",
      "- TA: μ=10.8 ± 3.5\n",
      "- BA: μ=4.4 ± 1.0\n",
      "- YP: μ=4.9 ± 1.6\n"
     ]
    }
   ],
   "source": [
    "print('Average features per item:')\n",
    "from IPython.display import display\n",
    "for dataset, df in datasets.items():\n",
    "    df_g = df.groupby('item_id', as_index=False).agg({'amenity': lambda x: len(np.unique(x))})\n",
    "    df_g.rename(columns={'amenity': 'n_features'}, inplace=True)\n",
    "    df_g.to_csv('../data/num-features-per-item-{}.csv'.format(dataset), index=False)\n",
    "    print('- {dataset}: μ={mean:.1f} ± {stddev:.1f}'.format(dataset=dataset.upper(), \n",
    "                                                          mean=df_g.n_features.mean(), \n",
    "                                                          stddev=df_g.n_features.std()))"
   ]
  },
  {
   "cell_type": "markdown",
   "metadata": {},
   "source": [
    "## Average number of features per user "
   ]
  },
  {
   "cell_type": "code",
   "execution_count": null,
   "metadata": {
    "ExecuteTime": {
     "start_time": "2017-05-19T14:25:01.276Z"
    }
   },
   "outputs": [
    {
     "name": "stdout",
     "output_type": "stream",
     "text": [
      "Average features per user:\n",
      "- TA: μ=2.9 ± 1.7\n",
      "- BA: μ=4.7 ± 1.0\n"
     ]
    }
   ],
   "source": [
    "print('Average features per user:')\n",
    "for dataset, df in datasets.items():\n",
    "    df_g = df.groupby('user_id', as_index=False).agg({'amenity': lambda x: len(np.unique(x))})\n",
    "    df_g.rename(columns={'amenity': 'n_features'}, inplace=True)\n",
    "    df_g.to_csv('../data/num-features-per-user-{}.csv'.format(dataset), index=False)\n",
    "    print('- {dataset}: μ={mean:.1f} ± {stddev:.1f}'.format(dataset=dataset.upper(), \n",
    "                                                          mean=df_g.n_features.mean(), \n",
    "                                                          stddev=df_g.n_features.std()))"
   ]
  },
  {
   "cell_type": "code",
   "execution_count": null,
   "metadata": {
    "collapsed": true
   },
   "outputs": [],
   "source": []
  }
 ],
 "metadata": {
  "kernelspec": {
   "display_name": "Python 3",
   "language": "python",
   "name": "python3"
  },
  "language_info": {
   "codemirror_mode": {
    "name": "ipython",
    "version": 3
   },
   "file_extension": ".py",
   "mimetype": "text/x-python",
   "name": "python",
   "nbconvert_exporter": "python",
   "pygments_lexer": "ipython3",
   "version": "3.6.1"
  }
 },
 "nbformat": 4,
 "nbformat_minor": 2
}
